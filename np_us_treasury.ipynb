{
 "cells": [
  {
   "cell_type": "code",
   "execution_count": 4,
   "metadata": {},
   "outputs": [],
   "source": [
    "%matplotlib inline\n",
    "\n",
    "import numpy as np\n",
    "import pandas as pd\n",
    "import matplotlib.pyplot as plt\n",
    "import scipy.interpolate\n",
    "import requests\n",
    "import datetime\n",
    "\n",
    "%load_ext autoreload\n",
    "%autoreload 2"
   ]
  },
  {
   "cell_type": "code",
   "execution_count": 10,
   "metadata": {},
   "outputs": [],
   "source": [
    "from access_treasurydirectgov import *\n",
    "import bond_analytics as ba\n",
    "from db_manager_UST import *"
   ]
  },
  {
   "cell_type": "code",
   "execution_count": 9,
   "metadata": {},
   "outputs": [],
   "source": [
    "def calc_yield(row):\n",
    "    dt_start = datetime.datetime(2019,1,1)\n",
    "    dt_end = row['MATURITY DATE']\n",
    "    coupon = row['RATE']\n",
    "    today = row['Date']\n",
    "    price = row['END OF DAY']\n",
    "    if price < 0.01:\n",
    "        price = 0.5*(row['BUY'] + row['SELL'])\n",
    "    \n",
    "    b = ba.USConventional(row['SECURITY TYPE'], dt_start, dt_end, coupon)\n",
    "    y = b.get_yield(today, price)\n",
    "    \n",
    "    return y\n",
    "\n",
    "df_note['Yield'] = df_note.apply(calc_yield, axis = 1)"
   ]
  },
  {
   "cell_type": "code",
   "execution_count": 10,
   "metadata": {},
   "outputs": [],
   "source": [
    "df_note_dt = df_note[df_note['Date'] == '2020-07-30']"
   ]
  },
  {
   "cell_type": "code",
   "execution_count": 11,
   "metadata": {},
   "outputs": [
    {
     "data": {
      "image/png": "[encoded data removed]",
      "image/svg+xml": "<?xml version=\"1.0\" encoding=\"utf-8\" standalone=\"no\"?>\n<!DOCTYPE svg PUBLIC \"-//W3C//DTD SVG 1.1//EN\"\n  \"http://www.w3.org/Graphics/SVG/1.1/DTD/svg11.dtd\">\n<!-- Created with matplotlib (https://matplotlib.org/) -->\n<svg height=\"248.518125pt\" version=\"1.1\" viewBox=\"0 0 393.207812 248.518125\" width=\"393.207812pt\" xmlns=\"http://www.w3.org/2000/svg\" xmlns:xlink=\"http://www.w3.org/1999/xlink\">\n <defs>\n  <style type=\"text/css\">\n*{stroke-linecap:butt;stroke-linejoin:round;}\n  </style>\n </defs>\n <g id=\"figure_1\">\n  <g id=\"patch_1\">\n   <path d=\"M 0 248.518125 \nL 393.207812 248.518125 \nL 393.207812 0 \nL 0 0 \nz\n\" style=\"fill:none;\"/>\n  </g>\n  <g id=\"axes_1\">\n   <g id=\"patch_2\">\n    <path d=\"M 51.207813 224.64 \nL 386.007812 224.64 \nL 386.007812 7.2 \nL 51.207813 7.2 \nz\n\" style=\"fill:#ffffff;\"/>\n   </g>\n   <g id=\"matplotlib.axis_1\">\n    <g id=\"xtick_1\">\n     <g id=\"line2d_1\">\n      <defs>\n       <path d=\"M 0 0 \nL 0 3.5 \n\" id=\"m9b8b09ceba\" style=\"stroke:#000000;stroke-width:0.8;\"/>\n      </defs>\n      <g>\n       <use style=\"stroke:#000000;stroke-width:0.8;\" x=\"60.495379\" xlink:href=\"#m9b8b09ceba\" y=\"224.64\"/>\n      </g>\n     </g>\n     <g id=\"text_1\">\n      <!-- 2020 -->\n      <defs>\n       <path d=\"M 19.1875 8.296875 \nL 53.609375 8.296875 \nL 53.609375 0 \nL 7.328125 0 \nL 7.328125 8.296875 \nQ 12.9375 14.109375 22.625 23.890625 \nQ 32.328125 33.6875 34.8125 36.53125 \nQ 39.546875 41.84375 41.421875 45.53125 \nQ 43.3125 49.21875 43.3125 52.78125 \nQ 43.3125 58.59375 39.234375 62.25 \nQ 35.15625 65.921875 28.609375 65.921875 \nQ 23.96875 65.921875 18.8125 64.3125 \nQ 13.671875 62.703125 7.8125 59.421875 \nL 7.8125 69.390625 \nQ 13.765625 71.78125 18.9375 73 \nQ 24.125 74.21875 28.421875 74.21875 \nQ 39.75 74.21875 46.484375 68.546875 \nQ 53.21875 62.890625 53.21875 53.421875 \nQ 53.21875 48.921875 51.53125 44.890625 \nQ 49.859375 40.875 45.40625 35.40625 \nQ 44.1875 33.984375 37.640625 27.21875 \nQ 31.109375 20.453125 19.1875 8.296875 \nz\n\" id=\"DejaVuSans-50\"/>\n       <path d=\"M 31.78125 66.40625 \nQ 24.171875 66.40625 20.328125 58.90625 \nQ 16.5 51.421875 16.5 36.375 \nQ 16.5 21.390625 20.328125 13.890625 \nQ 24.171875 6.390625 31.78125 6.390625 \nQ 39.453125 6.390625 43.28125 13.890625 \nQ 47.125 21.390625 47.125 36.375 \nQ 47.125 51.421875 43.28125 58.90625 \nQ 39.453125 66.40625 31.78125 66.40625 \nz\nM 31.78125 74.21875 \nQ 44.046875 74.21875 50.515625 64.515625 \nQ 56.984375 54.828125 56.984375 36.375 \nQ 56.984375 17.96875 50.515625 8.265625 \nQ 44.046875 -1.421875 31.78125 -1.421875 \nQ 19.53125 -1.421875 13.0625 8.265625 \nQ 6.59375 17.96875 6.59375 36.375 \nQ 6.59375 54.828125 13.0625 64.515625 \nQ 19.53125 74.21875 31.78125 74.21875 \nz\n\" id=\"DejaVuSans-48\"/>\n      </defs>\n      <g transform=\"translate(47.770379 239.238437)scale(0.1 -0.1)\">\n       <use xlink:href=\"#DejaVuSans-50\"/>\n       <use x=\"63.623047\" xlink:href=\"#DejaVuSans-48\"/>\n       <use x=\"127.246094\" xlink:href=\"#DejaVuSans-50\"/>\n       <use x=\"190.869141\" xlink:href=\"#DejaVuSans-48\"/>\n      </g>\n     </g>\n    </g>\n    <g id=\"xtick_2\">\n     <g id=\"line2d_2\">\n      <g>\n       <use style=\"stroke:#000000;stroke-width:0.8;\" x=\"101.366268\" xlink:href=\"#m9b8b09ceba\" y=\"224.64\"/>\n      </g>\n     </g>\n     <g id=\"text_2\">\n      <!-- 2024 -->\n      <defs>\n       <path d=\"M 37.796875 64.3125 \nL 12.890625 25.390625 \nL 37.796875 25.390625 \nz\nM 35.203125 72.90625 \nL 47.609375 72.90625 \nL 47.609375 25.390625 \nL 58.015625 25.390625 \nL 58.015625 17.1875 \nL 47.609375 17.1875 \nL 47.609375 0 \nL 37.796875 0 \nL 37.796875 17.1875 \nL 4.890625 17.1875 \nL 4.890625 26.703125 \nz\n\" id=\"DejaVuSans-52\"/>\n      </defs>\n      <g transform=\"translate(88.641268 239.238437)scale(0.1 -0.1)\">\n       <use xlink:href=\"#DejaVuSans-50\"/>\n       <use x=\"63.623047\" xlink:href=\"#DejaVuSans-48\"/>\n       <use x=\"127.246094\" xlink:href=\"#DejaVuSans-50\"/>\n       <use x=\"190.869141\" xlink:href=\"#DejaVuSans-52\"/>\n      </g>\n     </g>\n    </g>\n    <g id=\"xtick_3\">\n     <g id=\"line2d_3\">\n      <g>\n       <use style=\"stroke:#000000;stroke-width:0.8;\" x=\"142.237157\" xlink:href=\"#m9b8b09ceba\" y=\"224.64\"/>\n      </g>\n     </g>\n     <g id=\"text_3\">\n      <!-- 2028 -->\n      <defs>\n       <path d=\"M 31.78125 34.625 \nQ 24.75 34.625 20.71875 30.859375 \nQ 16.703125 27.09375 16.703125 20.515625 \nQ 16.703125 13.921875 20.71875 10.15625 \nQ 24.75 6.390625 31.78125 6.390625 \nQ 38.8125 6.390625 42.859375 10.171875 \nQ 46.921875 13.96875 46.921875 20.515625 \nQ 46.921875 27.09375 42.890625 30.859375 \nQ 38.875 34.625 31.78125 34.625 \nz\nM 21.921875 38.8125 \nQ 15.578125 40.375 12.03125 44.71875 \nQ 8.5 49.078125 8.5 55.328125 \nQ 8.5 64.0625 14.71875 69.140625 \nQ 20.953125 74.21875 31.78125 74.21875 \nQ 42.671875 74.21875 48.875 69.140625 \nQ 55.078125 64.0625 55.078125 55.328125 \nQ 55.078125 49.078125 51.53125 44.71875 \nQ 48 40.375 41.703125 38.8125 \nQ 48.828125 37.15625 52.796875 32.3125 \nQ 56.78125 27.484375 56.78125 20.515625 \nQ 56.78125 9.90625 50.3125 4.234375 \nQ 43.84375 -1.421875 31.78125 -1.421875 \nQ 19.734375 -1.421875 13.25 4.234375 \nQ 6.78125 9.90625 6.78125 20.515625 \nQ 6.78125 27.484375 10.78125 32.3125 \nQ 14.796875 37.15625 21.921875 38.8125 \nz\nM 18.3125 54.390625 \nQ 18.3125 48.734375 21.84375 45.5625 \nQ 25.390625 42.390625 31.78125 42.390625 \nQ 38.140625 42.390625 41.71875 45.5625 \nQ 45.3125 48.734375 45.3125 54.390625 \nQ 45.3125 60.0625 41.71875 63.234375 \nQ 38.140625 66.40625 31.78125 66.40625 \nQ 25.390625 66.40625 21.84375 63.234375 \nQ 18.3125 60.0625 18.3125 54.390625 \nz\n\" id=\"DejaVuSans-56\"/>\n      </defs>\n      <g transform=\"translate(129.512157 239.238437)scale(0.1 -0.1)\">\n       <use xlink:href=\"#DejaVuSans-50\"/>\n       <use x=\"63.623047\" xlink:href=\"#DejaVuSans-48\"/>\n       <use x=\"127.246094\" xlink:href=\"#DejaVuSans-50\"/>\n       <use x=\"190.869141\" xlink:href=\"#DejaVuSans-56\"/>\n      </g>\n     </g>\n    </g>\n    <g id=\"xtick_4\">\n     <g id=\"line2d_4\">\n      <g>\n       <use style=\"stroke:#000000;stroke-width:0.8;\" x=\"183.108046\" xlink:href=\"#m9b8b09ceba\" y=\"224.64\"/>\n      </g>\n     </g>\n     <g id=\"text_4\">\n      <!-- 2032 -->\n      <defs>\n       <path d=\"M 40.578125 39.3125 \nQ 47.65625 37.796875 51.625 33 \nQ 55.609375 28.21875 55.609375 21.1875 \nQ 55.609375 10.40625 48.1875 4.484375 \nQ 40.765625 -1.421875 27.09375 -1.421875 \nQ 22.515625 -1.421875 17.65625 -0.515625 \nQ 12.796875 0.390625 7.625 2.203125 \nL 7.625 11.71875 \nQ 11.71875 9.328125 16.59375 8.109375 \nQ 21.484375 6.890625 26.8125 6.890625 \nQ 36.078125 6.890625 40.9375 10.546875 \nQ 45.796875 14.203125 45.796875 21.1875 \nQ 45.796875 27.640625 41.28125 31.265625 \nQ 36.765625 34.90625 28.71875 34.90625 \nL 20.21875 34.90625 \nL 20.21875 43.015625 \nL 29.109375 43.015625 \nQ 36.375 43.015625 40.234375 45.921875 \nQ 44.09375 48.828125 44.09375 54.296875 \nQ 44.09375 59.90625 40.109375 62.90625 \nQ 36.140625 65.921875 28.71875 65.921875 \nQ 24.65625 65.921875 20.015625 65.03125 \nQ 15.375 64.15625 9.8125 62.3125 \nL 9.8125 71.09375 \nQ 15.4375 72.65625 20.34375 73.4375 \nQ 25.25 74.21875 29.59375 74.21875 \nQ 40.828125 74.21875 47.359375 69.109375 \nQ 53.90625 64.015625 53.90625 55.328125 \nQ 53.90625 49.265625 50.4375 45.09375 \nQ 46.96875 40.921875 40.578125 39.3125 \nz\n\" id=\"DejaVuSans-51\"/>\n      </defs>\n      <g transform=\"translate(170.383046 239.238437)scale(0.1 -0.1)\">\n       <use xlink:href=\"#DejaVuSans-50\"/>\n       <use x=\"63.623047\" xlink:href=\"#DejaVuSans-48\"/>\n       <use x=\"127.246094\" xlink:href=\"#DejaVuSans-51\"/>\n       <use x=\"190.869141\" xlink:href=\"#DejaVuSans-50\"/>\n      </g>\n     </g>\n    </g>\n    <g id=\"xtick_5\">\n     <g id=\"line2d_5\">\n      <g>\n       <use style=\"stroke:#000000;stroke-width:0.8;\" x=\"223.978935\" xlink:href=\"#m9b8b09ceba\" y=\"224.64\"/>\n      </g>\n     </g>\n     <g id=\"text_5\">\n      <!-- 2036 -->\n      <defs>\n       <path d=\"M 33.015625 40.375 \nQ 26.375 40.375 22.484375 35.828125 \nQ 18.609375 31.296875 18.609375 23.390625 \nQ 18.609375 15.53125 22.484375 10.953125 \nQ 26.375 6.390625 33.015625 6.390625 \nQ 39.65625 6.390625 43.53125 10.953125 \nQ 47.40625 15.53125 47.40625 23.390625 \nQ 47.40625 31.296875 43.53125 35.828125 \nQ 39.65625 40.375 33.015625 40.375 \nz\nM 52.59375 71.296875 \nL 52.59375 62.3125 \nQ 48.875 64.0625 45.09375 64.984375 \nQ 41.3125 65.921875 37.59375 65.921875 \nQ 27.828125 65.921875 22.671875 59.328125 \nQ 17.53125 52.734375 16.796875 39.40625 \nQ 19.671875 43.65625 24.015625 45.921875 \nQ 28.375 48.1875 33.59375 48.1875 \nQ 44.578125 48.1875 50.953125 41.515625 \nQ 57.328125 34.859375 57.328125 23.390625 \nQ 57.328125 12.15625 50.6875 5.359375 \nQ 44.046875 -1.421875 33.015625 -1.421875 \nQ 20.359375 -1.421875 13.671875 8.265625 \nQ 6.984375 17.96875 6.984375 36.375 \nQ 6.984375 53.65625 15.1875 63.9375 \nQ 23.390625 74.21875 37.203125 74.21875 \nQ 40.921875 74.21875 44.703125 73.484375 \nQ 48.484375 72.75 52.59375 71.296875 \nz\n\" id=\"DejaVuSans-54\"/>\n      </defs>\n      <g transform=\"translate(211.253935 239.238437)scale(0.1 -0.1)\">\n       <use xlink:href=\"#DejaVuSans-50\"/>\n       <use x=\"63.623047\" xlink:href=\"#DejaVuSans-48\"/>\n       <use x=\"127.246094\" xlink:href=\"#DejaVuSans-51\"/>\n       <use x=\"190.869141\" xlink:href=\"#DejaVuSans-54\"/>\n      </g>\n     </g>\n    </g>\n    <g id=\"xtick_6\">\n     <g id=\"line2d_6\">\n      <g>\n       <use style=\"stroke:#000000;stroke-width:0.8;\" x=\"264.849825\" xlink:href=\"#m9b8b09ceba\" y=\"224.64\"/>\n      </g>\n     </g>\n     <g id=\"text_6\">\n      <!-- 2040 -->\n      <g transform=\"translate(252.124825 239.238437)scale(0.1 -0.1)\">\n       <use xlink:href=\"#DejaVuSans-50\"/>\n       <use x=\"63.623047\" xlink:href=\"#DejaVuSans-48\"/>\n       <use x=\"127.246094\" xlink:href=\"#DejaVuSans-52\"/>\n       <use x=\"190.869141\" xlink:href=\"#DejaVuSans-48\"/>\n      </g>\n     </g>\n    </g>\n    <g id=\"xtick_7\">\n     <g id=\"line2d_7\">\n      <g>\n       <use style=\"stroke:#000000;stroke-width:0.8;\" x=\"305.720714\" xlink:href=\"#m9b8b09ceba\" y=\"224.64\"/>\n      </g>\n     </g>\n     <g id=\"text_7\">\n      <!-- 2044 -->\n      <g transform=\"translate(292.995714 239.238437)scale(0.1 -0.1)\">\n       <use xlink:href=\"#DejaVuSans-50\"/>\n       <use x=\"63.623047\" xlink:href=\"#DejaVuSans-48\"/>\n       <use x=\"127.246094\" xlink:href=\"#DejaVuSans-52\"/>\n       <use x=\"190.869141\" xlink:href=\"#DejaVuSans-52\"/>\n      </g>\n     </g>\n    </g>\n    <g id=\"xtick_8\">\n     <g id=\"line2d_8\">\n      <g>\n       <use style=\"stroke:#000000;stroke-width:0.8;\" x=\"346.591603\" xlink:href=\"#m9b8b09ceba\" y=\"224.64\"/>\n      </g>\n     </g>\n     <g id=\"text_8\">\n      <!-- 2048 -->\n      <g transform=\"translate(333.866603 239.238437)scale(0.1 -0.1)\">\n       <use xlink:href=\"#DejaVuSans-50\"/>\n       <use x=\"63.623047\" xlink:href=\"#DejaVuSans-48\"/>\n       <use x=\"127.246094\" xlink:href=\"#DejaVuSans-52\"/>\n       <use x=\"190.869141\" xlink:href=\"#DejaVuSans-56\"/>\n      </g>\n     </g>\n    </g>\n   </g>\n   <g id=\"matplotlib.axis_2\">\n    <g id=\"ytick_1\">\n     <g id=\"line2d_9\">\n      <defs>\n       <path d=\"M 0 0 \nL -3.5 0 \n\" id=\"m9a0780d4d5\" style=\"stroke:#000000;stroke-width:0.8;\"/>\n      </defs>\n      <g>\n       <use style=\"stroke:#000000;stroke-width:0.8;\" x=\"51.207813\" xlink:href=\"#m9a0780d4d5\" y=\"220.865509\"/>\n      </g>\n     </g>\n     <g id=\"text_9\">\n      <!-- −0.015 -->\n      <defs>\n       <path d=\"M 10.59375 35.5 \nL 73.1875 35.5 \nL 73.1875 27.203125 \nL 10.59375 27.203125 \nz\n\" id=\"DejaVuSans-8722\"/>\n       <path d=\"M 10.6875 12.40625 \nL 21 12.40625 \nL 21 0 \nL 10.6875 0 \nz\n\" id=\"DejaVuSans-46\"/>\n       <path d=\"M 12.40625 8.296875 \nL 28.515625 8.296875 \nL 28.515625 63.921875 \nL 10.984375 60.40625 \nL 10.984375 69.390625 \nL 28.421875 72.90625 \nL 38.28125 72.90625 \nL 38.28125 8.296875 \nL 54.390625 8.296875 \nL 54.390625 0 \nL 12.40625 0 \nz\n\" id=\"DejaVuSans-49\"/>\n       <path d=\"M 10.796875 72.90625 \nL 49.515625 72.90625 \nL 49.515625 64.59375 \nL 19.828125 64.59375 \nL 19.828125 46.734375 \nQ 21.96875 47.46875 24.109375 47.828125 \nQ 26.265625 48.1875 28.421875 48.1875 \nQ 40.625 48.1875 47.75 41.5 \nQ 54.890625 34.8125 54.890625 23.390625 \nQ 54.890625 11.625 47.5625 5.09375 \nQ 40.234375 -1.421875 26.90625 -1.421875 \nQ 22.3125 -1.421875 17.546875 -0.640625 \nQ 12.796875 0.140625 7.71875 1.703125 \nL 7.71875 11.625 \nQ 12.109375 9.234375 16.796875 8.0625 \nQ 21.484375 6.890625 26.703125 6.890625 \nQ 35.15625 6.890625 40.078125 11.328125 \nQ 45.015625 15.765625 45.015625 23.390625 \nQ 45.015625 31 40.078125 35.4375 \nQ 35.15625 39.890625 26.703125 39.890625 \nQ 22.75 39.890625 18.8125 39.015625 \nQ 14.890625 38.140625 10.796875 36.28125 \nz\n\" id=\"DejaVuSans-53\"/>\n      </defs>\n      <g transform=\"translate(7.2 224.664727)scale(0.1 -0.1)\">\n       <use xlink:href=\"#DejaVuSans-8722\"/>\n       <use x=\"83.789062\" xlink:href=\"#DejaVuSans-48\"/>\n       <use x=\"147.412109\" xlink:href=\"#DejaVuSans-46\"/>\n       <use x=\"179.199219\" xlink:href=\"#DejaVuSans-48\"/>\n       <use x=\"242.822266\" xlink:href=\"#DejaVuSans-49\"/>\n       <use x=\"306.445312\" xlink:href=\"#DejaVuSans-53\"/>\n      </g>\n     </g>\n    </g>\n    <g id=\"ytick_2\">\n     <g id=\"line2d_10\">\n      <g>\n       <use style=\"stroke:#000000;stroke-width:0.8;\" x=\"51.207813\" xlink:href=\"#m9a0780d4d5\" y=\"183.073566\"/>\n      </g>\n     </g>\n     <g id=\"text_10\">\n      <!-- −0.010 -->\n      <g transform=\"translate(7.2 186.872785)scale(0.1 -0.1)\">\n       <use xlink:href=\"#DejaVuSans-8722\"/>\n       <use x=\"83.789062\" xlink:href=\"#DejaVuSans-48\"/>\n       <use x=\"147.412109\" xlink:href=\"#DejaVuSans-46\"/>\n       <use x=\"179.199219\" xlink:href=\"#DejaVuSans-48\"/>\n       <use x=\"242.822266\" xlink:href=\"#DejaVuSans-49\"/>\n       <use x=\"306.445312\" xlink:href=\"#DejaVuSans-48\"/>\n      </g>\n     </g>\n    </g>\n    <g id=\"ytick_3\">\n     <g id=\"line2d_11\">\n      <g>\n       <use style=\"stroke:#000000;stroke-width:0.8;\" x=\"51.207813\" xlink:href=\"#m9a0780d4d5\" y=\"145.281624\"/>\n      </g>\n     </g>\n     <g id=\"text_11\">\n      <!-- −0.005 -->\n      <g transform=\"translate(7.2 149.080843)scale(0.1 -0.1)\">\n       <use xlink:href=\"#DejaVuSans-8722\"/>\n       <use x=\"83.789062\" xlink:href=\"#DejaVuSans-48\"/>\n       <use x=\"147.412109\" xlink:href=\"#DejaVuSans-46\"/>\n       <use x=\"179.199219\" xlink:href=\"#DejaVuSans-48\"/>\n       <use x=\"242.822266\" xlink:href=\"#DejaVuSans-48\"/>\n       <use x=\"306.445312\" xlink:href=\"#DejaVuSans-53\"/>\n      </g>\n     </g>\n    </g>\n    <g id=\"ytick_4\">\n     <g id=\"line2d_12\">\n      <g>\n       <use style=\"stroke:#000000;stroke-width:0.8;\" x=\"51.207813\" xlink:href=\"#m9a0780d4d5\" y=\"107.489681\"/>\n      </g>\n     </g>\n     <g id=\"text_12\">\n      <!-- 0.000 -->\n      <g transform=\"translate(15.579688 111.2889)scale(0.1 -0.1)\">\n       <use xlink:href=\"#DejaVuSans-48\"/>\n       <use x=\"63.623047\" xlink:href=\"#DejaVuSans-46\"/>\n       <use x=\"95.410156\" xlink:href=\"#DejaVuSans-48\"/>\n       <use x=\"159.033203\" xlink:href=\"#DejaVuSans-48\"/>\n       <use x=\"222.65625\" xlink:href=\"#DejaVuSans-48\"/>\n      </g>\n     </g>\n    </g>\n    <g id=\"ytick_5\">\n     <g id=\"line2d_13\">\n      <g>\n       <use style=\"stroke:#000000;stroke-width:0.8;\" x=\"51.207813\" xlink:href=\"#m9a0780d4d5\" y=\"69.697739\"/>\n      </g>\n     </g>\n     <g id=\"text_13\">\n      <!-- 0.005 -->\n      <g transform=\"translate(15.579688 73.496958)scale(0.1 -0.1)\">\n       <use xlink:href=\"#DejaVuSans-48\"/>\n       <use x=\"63.623047\" xlink:href=\"#DejaVuSans-46\"/>\n       <use x=\"95.410156\" xlink:href=\"#DejaVuSans-48\"/>\n       <use x=\"159.033203\" xlink:href=\"#DejaVuSans-48\"/>\n       <use x=\"222.65625\" xlink:href=\"#DejaVuSans-53\"/>\n      </g>\n     </g>\n    </g>\n    <g id=\"ytick_6\">\n     <g id=\"line2d_14\">\n      <g>\n       <use style=\"stroke:#000000;stroke-width:0.8;\" x=\"51.207813\" xlink:href=\"#m9a0780d4d5\" y=\"31.905797\"/>\n      </g>\n     </g>\n     <g id=\"text_14\">\n      <!-- 0.010 -->\n      <g transform=\"translate(15.579688 35.705015)scale(0.1 -0.1)\">\n       <use xlink:href=\"#DejaVuSans-48\"/>\n       <use x=\"63.623047\" xlink:href=\"#DejaVuSans-46\"/>\n       <use x=\"95.410156\" xlink:href=\"#DejaVuSans-48\"/>\n       <use x=\"159.033203\" xlink:href=\"#DejaVuSans-49\"/>\n       <use x=\"222.65625\" xlink:href=\"#DejaVuSans-48\"/>\n      </g>\n     </g>\n    </g>\n   </g>\n   <g id=\"line2d_15\">\n    <defs>\n     <path d=\"M 0 3 \nC 0.795609 3 1.55874 2.683901 2.12132 2.12132 \nC 2.683901 1.55874 3 0.795609 3 0 \nC 3 -0.795609 2.683901 -1.55874 2.12132 -2.12132 \nC 1.55874 -2.683901 0.795609 -3 0 -3 \nC -0.795609 -3 -1.55874 -2.683901 -2.12132 -2.12132 \nC -2.683901 -1.55874 -3 -0.795609 -3 0 \nC -3 0.795609 -2.683901 1.55874 -2.12132 2.12132 \nC -1.55874 2.683901 -0.795609 3 0 3 \nz\n\" id=\"m7796ecfac1\" style=\"stroke:#1f77b4;\"/>\n    </defs>\n    <g clip-path=\"url(#p431c5e3dca)\">\n     <use style=\"fill:#1f77b4;stroke:#1f77b4;\" x=\"66.425994\" xlink:href=\"#m7796ecfac1\" y=\"107.489681\"/>\n     <use style=\"fill:#1f77b4;stroke:#1f77b4;\" x=\"66.425994\" xlink:href=\"#m7796ecfac1\" y=\"107.489681\"/>\n     <use style=\"fill:#1f77b4;stroke:#1f77b4;\" x=\"66.425994\" xlink:href=\"#m7796ecfac1\" y=\"107.489681\"/>\n     <use style=\"fill:#1f77b4;stroke:#1f77b4;\" x=\"66.845613\" xlink:href=\"#m7796ecfac1\" y=\"72.277975\"/>\n     <use style=\"fill:#1f77b4;stroke:#1f77b4;\" x=\"66.845613\" xlink:href=\"#m7796ecfac1\" y=\"122.470274\"/>\n     <use style=\"fill:#1f77b4;stroke:#1f77b4;\" x=\"67.293207\" xlink:href=\"#m7796ecfac1\" y=\"96.258641\"/>\n     <use style=\"fill:#1f77b4;stroke:#1f77b4;\" x=\"67.293207\" xlink:href=\"#m7796ecfac1\" y=\"129.187642\"/>\n     <use style=\"fill:#1f77b4;stroke:#1f77b4;\" x=\"67.293207\" xlink:href=\"#m7796ecfac1\" y=\"124.962262\"/>\n     <use style=\"fill:#1f77b4;stroke:#1f77b4;\" x=\"67.712826\" xlink:href=\"#m7796ecfac1\" y=\"104.106896\"/>\n     <use style=\"fill:#1f77b4;stroke:#1f77b4;\" x=\"68.132445\" xlink:href=\"#m7796ecfac1\" y=\"105.392821\"/>\n     <use style=\"fill:#1f77b4;stroke:#1f77b4;\" x=\"68.132445\" xlink:href=\"#m7796ecfac1\" y=\"93.081838\"/>\n     <use style=\"fill:#1f77b4;stroke:#1f77b4;\" x=\"68.132445\" xlink:href=\"#m7796ecfac1\" y=\"108.293118\"/>\n     <use style=\"fill:#1f77b4;stroke:#1f77b4;\" x=\"68.552064\" xlink:href=\"#m7796ecfac1\" y=\"103.123793\"/>\n     <use style=\"fill:#1f77b4;stroke:#1f77b4;\" x=\"68.999657\" xlink:href=\"#m7796ecfac1\" y=\"101.673142\"/>\n     <use style=\"fill:#1f77b4;stroke:#1f77b4;\" x=\"68.999657\" xlink:href=\"#m7796ecfac1\" y=\"100.88842\"/>\n     <use style=\"fill:#1f77b4;stroke:#1f77b4;\" x=\"68.999657\" xlink:href=\"#m7796ecfac1\" y=\"104.009343\"/>\n     <use style=\"fill:#1f77b4;stroke:#1f77b4;\" x=\"69.419276\" xlink:href=\"#m7796ecfac1\" y=\"100.426809\"/>\n     <use style=\"fill:#1f77b4;stroke:#1f77b4;\" x=\"69.419276\" xlink:href=\"#m7796ecfac1\" y=\"100.038894\"/>\n     <use style=\"fill:#1f77b4;stroke:#1f77b4;\" x=\"69.838895\" xlink:href=\"#m7796ecfac1\" y=\"100.950681\"/>\n     <use style=\"fill:#1f77b4;stroke:#1f77b4;\" x=\"69.838895\" xlink:href=\"#m7796ecfac1\" y=\"101.670767\"/>\n     <use style=\"fill:#1f77b4;stroke:#1f77b4;\" x=\"69.838895\" xlink:href=\"#m7796ecfac1\" y=\"103.102839\"/>\n     <use style=\"fill:#1f77b4;stroke:#1f77b4;\" x=\"70.258514\" xlink:href=\"#m7796ecfac1\" y=\"107.699249\"/>\n     <use style=\"fill:#1f77b4;stroke:#1f77b4;\" x=\"70.706108\" xlink:href=\"#m7796ecfac1\" y=\"100.951552\"/>\n     <use style=\"fill:#1f77b4;stroke:#1f77b4;\" x=\"70.706108\" xlink:href=\"#m7796ecfac1\" y=\"102.055831\"/>\n     <use style=\"fill:#1f77b4;stroke:#1f77b4;\" x=\"70.706108\" xlink:href=\"#m7796ecfac1\" y=\"97.312956\"/>\n     <use style=\"fill:#1f77b4;stroke:#1f77b4;\" x=\"71.125727\" xlink:href=\"#m7796ecfac1\" y=\"97.842292\"/>\n     <use style=\"fill:#1f77b4;stroke:#1f77b4;\" x=\"71.573321\" xlink:href=\"#m7796ecfac1\" y=\"99.141914\"/>\n     <use style=\"fill:#1f77b4;stroke:#1f77b4;\" x=\"71.573321\" xlink:href=\"#m7796ecfac1\" y=\"99.76447\"/>\n     <use style=\"fill:#1f77b4;stroke:#1f77b4;\" x=\"71.573321\" xlink:href=\"#m7796ecfac1\" y=\"100.073972\"/>\n     <use style=\"fill:#1f77b4;stroke:#1f77b4;\" x=\"71.99294\" xlink:href=\"#m7796ecfac1\" y=\"100.633238\"/>\n     <use style=\"fill:#1f77b4;stroke:#1f77b4;\" x=\"71.99294\" xlink:href=\"#m7796ecfac1\" y=\"98.195525\"/>\n     <use style=\"fill:#1f77b4;stroke:#1f77b4;\" x=\"72.356609\" xlink:href=\"#m7796ecfac1\" y=\"101.056865\"/>\n     <use style=\"fill:#1f77b4;stroke:#1f77b4;\" x=\"72.356609\" xlink:href=\"#m7796ecfac1\" y=\"101.0832\"/>\n     <use style=\"fill:#1f77b4;stroke:#1f77b4;\" x=\"72.356609\" xlink:href=\"#m7796ecfac1\" y=\"100.518027\"/>\n     <use style=\"fill:#1f77b4;stroke:#1f77b4;\" x=\"72.776228\" xlink:href=\"#m7796ecfac1\" y=\"101.573517\"/>\n     <use style=\"fill:#1f77b4;stroke:#1f77b4;\" x=\"73.223822\" xlink:href=\"#m7796ecfac1\" y=\"99.460228\"/>\n     <use style=\"fill:#1f77b4;stroke:#1f77b4;\" x=\"73.223822\" xlink:href=\"#m7796ecfac1\" y=\"99.428476\"/>\n     <use style=\"fill:#1f77b4;stroke:#1f77b4;\" x=\"73.643441\" xlink:href=\"#m7796ecfac1\" y=\"100.781626\"/>\n     <use style=\"fill:#1f77b4;stroke:#1f77b4;\" x=\"74.06306\" xlink:href=\"#m7796ecfac1\" y=\"99.567758\"/>\n     <use style=\"fill:#1f77b4;stroke:#1f77b4;\" x=\"74.06306\" xlink:href=\"#m7796ecfac1\" y=\"97.465303\"/>\n     <use style=\"fill:#1f77b4;stroke:#1f77b4;\" x=\"74.482679\" xlink:href=\"#m7796ecfac1\" y=\"98.736817\"/>\n     <use style=\"fill:#1f77b4;stroke:#1f77b4;\" x=\"74.482679\" xlink:href=\"#m7796ecfac1\" y=\"100.113642\"/>\n     <use style=\"fill:#1f77b4;stroke:#1f77b4;\" x=\"74.930272\" xlink:href=\"#m7796ecfac1\" y=\"99.032801\"/>\n     <use style=\"fill:#1f77b4;stroke:#1f77b4;\" x=\"74.930272\" xlink:href=\"#m7796ecfac1\" y=\"98.321663\"/>\n     <use style=\"fill:#1f77b4;stroke:#1f77b4;\" x=\"74.930272\" xlink:href=\"#m7796ecfac1\" y=\"99.855903\"/>\n     <use style=\"fill:#1f77b4;stroke:#1f77b4;\" x=\"75.349891\" xlink:href=\"#m7796ecfac1\" y=\"100.436469\"/>\n     <use style=\"fill:#1f77b4;stroke:#1f77b4;\" x=\"75.76951\" xlink:href=\"#m7796ecfac1\" y=\"99.500057\"/>\n     <use style=\"fill:#1f77b4;stroke:#1f77b4;\" x=\"75.76951\" xlink:href=\"#m7796ecfac1\" y=\"98.264097\"/>\n     <use style=\"fill:#1f77b4;stroke:#1f77b4;\" x=\"75.76951\" xlink:href=\"#m7796ecfac1\" y=\"98.153796\"/>\n     <use style=\"fill:#1f77b4;stroke:#1f77b4;\" x=\"76.189129\" xlink:href=\"#m7796ecfac1\" y=\"98.837141\"/>\n     <use style=\"fill:#1f77b4;stroke:#1f77b4;\" x=\"76.636723\" xlink:href=\"#m7796ecfac1\" y=\"97.389526\"/>\n     <use style=\"fill:#1f77b4;stroke:#1f77b4;\" x=\"76.636723\" xlink:href=\"#m7796ecfac1\" y=\"96.512183\"/>\n     <use style=\"fill:#1f77b4;stroke:#1f77b4;\" x=\"76.636723\" xlink:href=\"#m7796ecfac1\" y=\"99.346252\"/>\n     <use style=\"fill:#1f77b4;stroke:#1f77b4;\" x=\"77.056342\" xlink:href=\"#m7796ecfac1\" y=\"99.001445\"/>\n     <use style=\"fill:#1f77b4;stroke:#1f77b4;\" x=\"77.056342\" xlink:href=\"#m7796ecfac1\" y=\"98.139384\"/>\n     <use style=\"fill:#1f77b4;stroke:#1f77b4;\" x=\"77.503935\" xlink:href=\"#m7796ecfac1\" y=\"99.189272\"/>\n     <use style=\"fill:#1f77b4;stroke:#1f77b4;\" x=\"77.503935\" xlink:href=\"#m7796ecfac1\" y=\"97.437273\"/>\n     <use style=\"fill:#1f77b4;stroke:#1f77b4;\" x=\"77.503935\" xlink:href=\"#m7796ecfac1\" y=\"97.204318\"/>\n     <use style=\"fill:#1f77b4;stroke:#1f77b4;\" x=\"77.923554\" xlink:href=\"#m7796ecfac1\" y=\"98.655522\"/>\n     <use style=\"fill:#1f77b4;stroke:#1f77b4;\" x=\"78.343173\" xlink:href=\"#m7796ecfac1\" y=\"98.268373\"/>\n     <use style=\"fill:#1f77b4;stroke:#1f77b4;\" x=\"78.343173\" xlink:href=\"#m7796ecfac1\" y=\"98.004482\"/>\n     <use style=\"fill:#1f77b4;stroke:#1f77b4;\" x=\"78.343173\" xlink:href=\"#m7796ecfac1\" y=\"98.023041\"/>\n     <use style=\"fill:#1f77b4;stroke:#1f77b4;\" x=\"78.762792\" xlink:href=\"#m7796ecfac1\" y=\"97.299812\"/>\n     <use style=\"fill:#1f77b4;stroke:#1f77b4;\" x=\"79.210386\" xlink:href=\"#m7796ecfac1\" y=\"98.650666\"/>\n     <use style=\"fill:#1f77b4;stroke:#1f77b4;\" x=\"79.210386\" xlink:href=\"#m7796ecfac1\" y=\"97.169002\"/>\n     <use style=\"fill:#1f77b4;stroke:#1f77b4;\" x=\"79.210386\" xlink:href=\"#m7796ecfac1\" y=\"96.904216\"/>\n     <use style=\"fill:#1f77b4;stroke:#1f77b4;\" x=\"79.630005\" xlink:href=\"#m7796ecfac1\" y=\"96.340357\"/>\n     <use style=\"fill:#1f77b4;stroke:#1f77b4;\" x=\"79.630005\" xlink:href=\"#m7796ecfac1\" y=\"98.320871\"/>\n     <use style=\"fill:#1f77b4;stroke:#1f77b4;\" x=\"80.049624\" xlink:href=\"#m7796ecfac1\" y=\"97.852981\"/>\n     <use style=\"fill:#1f77b4;stroke:#1f77b4;\" x=\"80.049624\" xlink:href=\"#m7796ecfac1\" y=\"97.641247\"/>\n     <use style=\"fill:#1f77b4;stroke:#1f77b4;\" x=\"80.049624\" xlink:href=\"#m7796ecfac1\" y=\"96.610291\"/>\n     <use style=\"fill:#1f77b4;stroke:#1f77b4;\" x=\"80.469243\" xlink:href=\"#m7796ecfac1\" y=\"97.788843\"/>\n     <use style=\"fill:#1f77b4;stroke:#1f77b4;\" x=\"80.916837\" xlink:href=\"#m7796ecfac1\" y=\"97.297753\"/>\n     <use style=\"fill:#1f77b4;stroke:#1f77b4;\" x=\"80.916837\" xlink:href=\"#m7796ecfac1\" y=\"97.900016\"/>\n     <use style=\"fill:#1f77b4;stroke:#1f77b4;\" x=\"80.916837\" xlink:href=\"#m7796ecfac1\" y=\"97.126402\"/>\n     <use style=\"fill:#1f77b4;stroke:#1f77b4;\" x=\"81.336456\" xlink:href=\"#m7796ecfac1\" y=\"97.880933\"/>\n     <use style=\"fill:#1f77b4;stroke:#1f77b4;\" x=\"81.784049\" xlink:href=\"#m7796ecfac1\" y=\"98.486125\"/>\n     <use style=\"fill:#1f77b4;stroke:#1f77b4;\" x=\"81.784049\" xlink:href=\"#m7796ecfac1\" y=\"97.105815\"/>\n     <use style=\"fill:#1f77b4;stroke:#1f77b4;\" x=\"81.784049\" xlink:href=\"#m7796ecfac1\" y=\"96.969146\"/>\n     <use style=\"fill:#1f77b4;stroke:#1f77b4;\" x=\"82.203668\" xlink:href=\"#m7796ecfac1\" y=\"96.480493\"/>\n     <use style=\"fill:#1f77b4;stroke:#1f77b4;\" x=\"82.203668\" xlink:href=\"#m7796ecfac1\" y=\"97.176762\"/>\n     <use style=\"fill:#1f77b4;stroke:#1f77b4;\" x=\"82.567338\" xlink:href=\"#m7796ecfac1\" y=\"97.139303\"/>\n     <use style=\"fill:#1f77b4;stroke:#1f77b4;\" x=\"82.567338\" xlink:href=\"#m7796ecfac1\" y=\"98.208115\"/>\n     <use style=\"fill:#1f77b4;stroke:#1f77b4;\" x=\"82.567338\" xlink:href=\"#m7796ecfac1\" y=\"97.71207\"/>\n     <use style=\"fill:#1f77b4;stroke:#1f77b4;\" x=\"82.986957\" xlink:href=\"#m7796ecfac1\" y=\"98.11365\"/>\n     <use style=\"fill:#1f77b4;stroke:#1f77b4;\" x=\"83.43455\" xlink:href=\"#m7796ecfac1\" y=\"97.709898\"/>\n     <use style=\"fill:#1f77b4;stroke:#1f77b4;\" x=\"83.43455\" xlink:href=\"#m7796ecfac1\" y=\"97.156492\"/>\n     <use style=\"fill:#1f77b4;stroke:#1f77b4;\" x=\"83.43455\" xlink:href=\"#m7796ecfac1\" y=\"98.020409\"/>\n     <use style=\"fill:#1f77b4;stroke:#1f77b4;\" x=\"83.854169\" xlink:href=\"#m7796ecfac1\" y=\"97.675612\"/>\n     <use style=\"fill:#1f77b4;stroke:#1f77b4;\" x=\"84.273788\" xlink:href=\"#m7796ecfac1\" y=\"97.700634\"/>\n     <use style=\"fill:#1f77b4;stroke:#1f77b4;\" x=\"84.273788\" xlink:href=\"#m7796ecfac1\" y=\"97.774907\"/>\n     <use style=\"fill:#1f77b4;stroke:#1f77b4;\" x=\"84.273788\" xlink:href=\"#m7796ecfac1\" y=\"98.071606\"/>\n     <use style=\"fill:#1f77b4;stroke:#1f77b4;\" x=\"84.693407\" xlink:href=\"#m7796ecfac1\" y=\"97.522157\"/>\n     <use style=\"fill:#1f77b4;stroke:#1f77b4;\" x=\"84.693407\" xlink:href=\"#m7796ecfac1\" y=\"98.39942\"/>\n     <use style=\"fill:#1f77b4;stroke:#1f77b4;\" x=\"85.141001\" xlink:href=\"#m7796ecfac1\" y=\"98.041876\"/>\n     <use style=\"fill:#1f77b4;stroke:#1f77b4;\" x=\"85.141001\" xlink:href=\"#m7796ecfac1\" y=\"98.444079\"/>\n     <use style=\"fill:#1f77b4;stroke:#1f77b4;\" x=\"85.141001\" xlink:href=\"#m7796ecfac1\" y=\"98.083402\"/>\n     <use style=\"fill:#1f77b4;stroke:#1f77b4;\" x=\"85.56062\" xlink:href=\"#m7796ecfac1\" y=\"98.271144\"/>\n     <use style=\"fill:#1f77b4;stroke:#1f77b4;\" x=\"85.980239\" xlink:href=\"#m7796ecfac1\" y=\"98.307172\"/>\n     <use style=\"fill:#1f77b4;stroke:#1f77b4;\" x=\"85.980239\" xlink:href=\"#m7796ecfac1\" y=\"98.106207\"/>\n     <use style=\"fill:#1f77b4;stroke:#1f77b4;\" x=\"85.980239\" xlink:href=\"#m7796ecfac1\" y=\"98.041823\"/>\n     <use style=\"fill:#1f77b4;stroke:#1f77b4;\" x=\"86.399858\" xlink:href=\"#m7796ecfac1\" y=\"97.948\"/>\n     <use style=\"fill:#1f77b4;stroke:#1f77b4;\" x=\"86.847452\" xlink:href=\"#m7796ecfac1\" y=\"97.70293\"/>\n     <use style=\"fill:#1f77b4;stroke:#1f77b4;\" x=\"86.847452\" xlink:href=\"#m7796ecfac1\" y=\"97.761209\"/>\n     <use style=\"fill:#1f77b4;stroke:#1f77b4;\" x=\"87.267071\" xlink:href=\"#m7796ecfac1\" y=\"97.750123\"/>\n     <use style=\"fill:#1f77b4;stroke:#1f77b4;\" x=\"87.267071\" xlink:href=\"#m7796ecfac1\" y=\"98.762709\"/>\n     <use style=\"fill:#1f77b4;stroke:#1f77b4;\" x=\"87.714664\" xlink:href=\"#m7796ecfac1\" y=\"97.992246\"/>\n     <use style=\"fill:#1f77b4;stroke:#1f77b4;\" x=\"87.714664\" xlink:href=\"#m7796ecfac1\" y=\"98.637997\"/>\n     <use style=\"fill:#1f77b4;stroke:#1f77b4;\" x=\"88.134283\" xlink:href=\"#m7796ecfac1\" y=\"99.160839\"/>\n     <use style=\"fill:#1f77b4;stroke:#1f77b4;\" x=\"88.553902\" xlink:href=\"#m7796ecfac1\" y=\"98.434973\"/>\n     <use style=\"fill:#1f77b4;stroke:#1f77b4;\" x=\"88.553902\" xlink:href=\"#m7796ecfac1\" y=\"98.024303\"/>\n     <use style=\"fill:#1f77b4;stroke:#1f77b4;\" x=\"88.973521\" xlink:href=\"#m7796ecfac1\" y=\"98.270748\"/>\n     <use style=\"fill:#1f77b4;stroke:#1f77b4;\" x=\"89.421115\" xlink:href=\"#m7796ecfac1\" y=\"97.703485\"/>\n     <use style=\"fill:#1f77b4;stroke:#1f77b4;\" x=\"89.421115\" xlink:href=\"#m7796ecfac1\" y=\"97.656846\"/>\n     <use style=\"fill:#1f77b4;stroke:#1f77b4;\" x=\"89.840734\" xlink:href=\"#m7796ecfac1\" y=\"98.620315\"/>\n     <use style=\"fill:#1f77b4;stroke:#1f77b4;\" x=\"90.260353\" xlink:href=\"#m7796ecfac1\" y=\"97.798345\"/>\n     <use style=\"fill:#1f77b4;stroke:#1f77b4;\" x=\"90.679972\" xlink:href=\"#m7796ecfac1\" y=\"98.665265\"/>\n     <use style=\"fill:#1f77b4;stroke:#1f77b4;\" x=\"91.127565\" xlink:href=\"#m7796ecfac1\" y=\"98.123627\"/>\n     <use style=\"fill:#1f77b4;stroke:#1f77b4;\" x=\"91.547184\" xlink:href=\"#m7796ecfac1\" y=\"97.457148\"/>\n     <use style=\"fill:#1f77b4;stroke:#1f77b4;\" x=\"91.994778\" xlink:href=\"#m7796ecfac1\" y=\"97.779025\"/>\n     <use style=\"fill:#1f77b4;stroke:#1f77b4;\" x=\"91.994778\" xlink:href=\"#m7796ecfac1\" y=\"97.593025\"/>\n     <use style=\"fill:#1f77b4;stroke:#1f77b4;\" x=\"92.414397\" xlink:href=\"#m7796ecfac1\" y=\"97.259508\"/>\n     <use style=\"fill:#1f77b4;stroke:#1f77b4;\" x=\"92.414397\" xlink:href=\"#m7796ecfac1\" y=\"97.820675\"/>\n     <use style=\"fill:#1f77b4;stroke:#1f77b4;\" x=\"92.778067\" xlink:href=\"#m7796ecfac1\" y=\"98.107553\"/>\n     <use style=\"fill:#1f77b4;stroke:#1f77b4;\" x=\"92.778067\" xlink:href=\"#m7796ecfac1\" y=\"98.642668\"/>\n     <use style=\"fill:#1f77b4;stroke:#1f77b4;\" x=\"93.197685\" xlink:href=\"#m7796ecfac1\" y=\"97.781004\"/>\n     <use style=\"fill:#1f77b4;stroke:#1f77b4;\" x=\"93.645279\" xlink:href=\"#m7796ecfac1\" y=\"98.346812\"/>\n     <use style=\"fill:#1f77b4;stroke:#1f77b4;\" x=\"93.645279\" xlink:href=\"#m7796ecfac1\" y=\"98.482641\"/>\n     <use style=\"fill:#1f77b4;stroke:#1f77b4;\" x=\"94.064898\" xlink:href=\"#m7796ecfac1\" y=\"98.263384\"/>\n     <use style=\"fill:#1f77b4;stroke:#1f77b4;\" x=\"94.484517\" xlink:href=\"#m7796ecfac1\" y=\"97.895502\"/>\n     <use style=\"fill:#1f77b4;stroke:#1f77b4;\" x=\"94.484517\" xlink:href=\"#m7796ecfac1\" y=\"98.404329\"/>\n     <use style=\"fill:#1f77b4;stroke:#1f77b4;\" x=\"94.904136\" xlink:href=\"#m7796ecfac1\" y=\"97.190223\"/>\n     <use style=\"fill:#1f77b4;stroke:#1f77b4;\" x=\"94.904136\" xlink:href=\"#m7796ecfac1\" y=\"97.838016\"/>\n     <use style=\"fill:#1f77b4;stroke:#1f77b4;\" x=\"95.35173\" xlink:href=\"#m7796ecfac1\" y=\"97.840233\"/>\n     <use style=\"fill:#1f77b4;stroke:#1f77b4;\" x=\"95.35173\" xlink:href=\"#m7796ecfac1\" y=\"97.494601\"/>\n     <use style=\"fill:#1f77b4;stroke:#1f77b4;\" x=\"95.771349\" xlink:href=\"#m7796ecfac1\" y=\"97.683649\"/>\n     <use style=\"fill:#1f77b4;stroke:#1f77b4;\" x=\"96.190968\" xlink:href=\"#m7796ecfac1\" y=\"97.259746\"/>\n     <use style=\"fill:#1f77b4;stroke:#1f77b4;\" x=\"96.190968\" xlink:href=\"#m7796ecfac1\" y=\"98.072396\"/>\n     <use style=\"fill:#1f77b4;stroke:#1f77b4;\" x=\"96.610587\" xlink:href=\"#m7796ecfac1\" y=\"97.25737\"/>\n     <use style=\"fill:#1f77b4;stroke:#1f77b4;\" x=\"97.05818\" xlink:href=\"#m7796ecfac1\" y=\"97.537043\"/>\n     <use style=\"fill:#1f77b4;stroke:#1f77b4;\" x=\"97.05818\" xlink:href=\"#m7796ecfac1\" y=\"97.709027\"/>\n     <use style=\"fill:#1f77b4;stroke:#1f77b4;\" x=\"97.477799\" xlink:href=\"#m7796ecfac1\" y=\"97.364369\"/>\n     <use style=\"fill:#1f77b4;stroke:#1f77b4;\" x=\"97.925393\" xlink:href=\"#m7796ecfac1\" y=\"96.72544\"/>\n     <use style=\"fill:#1f77b4;stroke:#1f77b4;\" x=\"97.925393\" xlink:href=\"#m7796ecfac1\" y=\"97.475122\"/>\n     <use style=\"fill:#1f77b4;stroke:#1f77b4;\" x=\"98.764631\" xlink:href=\"#m7796ecfac1\" y=\"97.168923\"/>\n     <use style=\"fill:#1f77b4;stroke:#1f77b4;\" x=\"98.764631\" xlink:href=\"#m7796ecfac1\" y=\"97.310502\"/>\n     <use style=\"fill:#1f77b4;stroke:#1f77b4;\" x=\"99.631843\" xlink:href=\"#m7796ecfac1\" y=\"97.129886\"/>\n     <use style=\"fill:#1f77b4;stroke:#1f77b4;\" x=\"99.631843\" xlink:href=\"#m7796ecfac1\" y=\"96.870168\"/>\n     <use style=\"fill:#1f77b4;stroke:#1f77b4;\" x=\"100.051462\" xlink:href=\"#m7796ecfac1\" y=\"95.853939\"/>\n     <use style=\"fill:#1f77b4;stroke:#1f77b4;\" x=\"100.471081\" xlink:href=\"#m7796ecfac1\" y=\"96.475364\"/>\n     <use style=\"fill:#1f77b4;stroke:#1f77b4;\" x=\"100.471081\" xlink:href=\"#m7796ecfac1\" y=\"96.76335\"/>\n     <use style=\"fill:#1f77b4;stroke:#1f77b4;\" x=\"101.338294\" xlink:href=\"#m7796ecfac1\" y=\"95.994488\"/>\n     <use style=\"fill:#1f77b4;stroke:#1f77b4;\" x=\"101.338294\" xlink:href=\"#m7796ecfac1\" y=\"95.858532\"/>\n     <use style=\"fill:#1f77b4;stroke:#1f77b4;\" x=\"102.205506\" xlink:href=\"#m7796ecfac1\" y=\"96.067604\"/>\n     <use style=\"fill:#1f77b4;stroke:#1f77b4;\" x=\"102.205506\" xlink:href=\"#m7796ecfac1\" y=\"96.15049\"/>\n     <use style=\"fill:#1f77b4;stroke:#1f77b4;\" x=\"102.625125\" xlink:href=\"#m7796ecfac1\" y=\"95.983332\"/>\n     <use style=\"fill:#1f77b4;stroke:#1f77b4;\" x=\"103.01677\" xlink:href=\"#m7796ecfac1\" y=\"96.042473\"/>\n     <use style=\"fill:#1f77b4;stroke:#1f77b4;\" x=\"103.01677\" xlink:href=\"#m7796ecfac1\" y=\"95.72408\"/>\n     <use style=\"fill:#1f77b4;stroke:#1f77b4;\" x=\"103.883982\" xlink:href=\"#m7796ecfac1\" y=\"95.232119\"/>\n     <use style=\"fill:#1f77b4;stroke:#1f77b4;\" x=\"104.72322\" xlink:href=\"#m7796ecfac1\" y=\"95.098854\"/>\n     <use style=\"fill:#1f77b4;stroke:#1f77b4;\" x=\"104.72322\" xlink:href=\"#m7796ecfac1\" y=\"95.208508\"/>\n     <use style=\"fill:#1f77b4;stroke:#1f77b4;\" x=\"105.142839\" xlink:href=\"#m7796ecfac1\" y=\"95.288326\"/>\n     <use style=\"fill:#1f77b4;stroke:#1f77b4;\" x=\"105.590433\" xlink:href=\"#m7796ecfac1\" y=\"94.535788\"/>\n     <use style=\"fill:#1f77b4;stroke:#1f77b4;\" x=\"106.429671\" xlink:href=\"#m7796ecfac1\" y=\"94.682909\"/>\n     <use style=\"fill:#1f77b4;stroke:#1f77b4;\" x=\"106.429671\" xlink:href=\"#m7796ecfac1\" y=\"94.76491\"/>\n     <use style=\"fill:#1f77b4;stroke:#1f77b4;\" x=\"107.296883\" xlink:href=\"#m7796ecfac1\" y=\"94.199024\"/>\n     <use style=\"fill:#1f77b4;stroke:#1f77b4;\" x=\"107.296883\" xlink:href=\"#m7796ecfac1\" y=\"94.034325\"/>\n     <use style=\"fill:#1f77b4;stroke:#1f77b4;\" x=\"107.716502\" xlink:href=\"#m7796ecfac1\" y=\"93.823462\"/>\n     <use style=\"fill:#1f77b4;stroke:#1f77b4;\" x=\"108.164096\" xlink:href=\"#m7796ecfac1\" y=\"93.79939\"/>\n     <use style=\"fill:#1f77b4;stroke:#1f77b4;\" x=\"108.164096\" xlink:href=\"#m7796ecfac1\" y=\"93.908424\"/>\n     <use style=\"fill:#1f77b4;stroke:#1f77b4;\" x=\"109.003334\" xlink:href=\"#m7796ecfac1\" y=\"93.37711\"/>\n     <use style=\"fill:#1f77b4;stroke:#1f77b4;\" x=\"109.003334\" xlink:href=\"#m7796ecfac1\" y=\"93.482106\"/>\n     <use style=\"fill:#1f77b4;stroke:#1f77b4;\" x=\"109.870546\" xlink:href=\"#m7796ecfac1\" y=\"92.88986\"/>\n     <use style=\"fill:#1f77b4;stroke:#1f77b4;\" x=\"109.870546\" xlink:href=\"#m7796ecfac1\" y=\"93.090152\"/>\n     <use style=\"fill:#1f77b4;stroke:#1f77b4;\" x=\"110.290165\" xlink:href=\"#m7796ecfac1\" y=\"93.061646\"/>\n     <use style=\"fill:#1f77b4;stroke:#1f77b4;\" x=\"110.709784\" xlink:href=\"#m7796ecfac1\" y=\"92.892041\"/>\n     <use style=\"fill:#1f77b4;stroke:#1f77b4;\" x=\"110.709784\" xlink:href=\"#m7796ecfac1\" y=\"92.839806\"/>\n     <use style=\"fill:#1f77b4;stroke:#1f77b4;\" x=\"111.576997\" xlink:href=\"#m7796ecfac1\" y=\"92.441885\"/>\n     <use style=\"fill:#1f77b4;stroke:#1f77b4;\" x=\"111.576997\" xlink:href=\"#m7796ecfac1\" y=\"92.552186\"/>\n     <use style=\"fill:#1f77b4;stroke:#1f77b4;\" x=\"112.44421\" xlink:href=\"#m7796ecfac1\" y=\"92.289617\"/>\n     <use style=\"fill:#1f77b4;stroke:#1f77b4;\" x=\"112.44421\" xlink:href=\"#m7796ecfac1\" y=\"91.776989\"/>\n     <use style=\"fill:#1f77b4;stroke:#1f77b4;\" x=\"112.863829\" xlink:href=\"#m7796ecfac1\" y=\"91.422872\"/>\n     <use style=\"fill:#1f77b4;stroke:#1f77b4;\" x=\"113.227498\" xlink:href=\"#m7796ecfac1\" y=\"92.053019\"/>\n     <use style=\"fill:#1f77b4;stroke:#1f77b4;\" x=\"113.227498\" xlink:href=\"#m7796ecfac1\" y=\"91.814918\"/>\n     <use style=\"fill:#1f77b4;stroke:#1f77b4;\" x=\"114.094711\" xlink:href=\"#m7796ecfac1\" y=\"91.664629\"/>\n     <use style=\"fill:#1f77b4;stroke:#1f77b4;\" x=\"114.094711\" xlink:href=\"#m7796ecfac1\" y=\"91.628522\"/>\n     <use style=\"fill:#1f77b4;stroke:#1f77b4;\" x=\"114.933949\" xlink:href=\"#m7796ecfac1\" y=\"91.176944\"/>\n     <use style=\"fill:#1f77b4;stroke:#1f77b4;\" x=\"114.933949\" xlink:href=\"#m7796ecfac1\" y=\"91.20198\"/>\n     <use style=\"fill:#1f77b4;stroke:#1f77b4;\" x=\"115.353568\" xlink:href=\"#m7796ecfac1\" y=\"91.012887\"/>\n     <use style=\"fill:#1f77b4;stroke:#1f77b4;\" x=\"115.801161\" xlink:href=\"#m7796ecfac1\" y=\"91.075115\"/>\n     <use style=\"fill:#1f77b4;stroke:#1f77b4;\" x=\"115.801161\" xlink:href=\"#m7796ecfac1\" y=\"91.149798\"/>\n     <use style=\"fill:#1f77b4;stroke:#1f77b4;\" x=\"116.640399\" xlink:href=\"#m7796ecfac1\" y=\"90.531606\"/>\n     <use style=\"fill:#1f77b4;stroke:#1f77b4;\" x=\"116.640399\" xlink:href=\"#m7796ecfac1\" y=\"90.494153\"/>\n     <use style=\"fill:#1f77b4;stroke:#1f77b4;\" x=\"117.507612\" xlink:href=\"#m7796ecfac1\" y=\"90.215484\"/>\n     <use style=\"fill:#1f77b4;stroke:#1f77b4;\" x=\"117.927231\" xlink:href=\"#m7796ecfac1\" y=\"89.568905\"/>\n     <use style=\"fill:#1f77b4;stroke:#1f77b4;\" x=\"118.374825\" xlink:href=\"#m7796ecfac1\" y=\"89.389082\"/>\n     <use style=\"fill:#1f77b4;stroke:#1f77b4;\" x=\"119.214063\" xlink:href=\"#m7796ecfac1\" y=\"89.157156\"/>\n     <use style=\"fill:#1f77b4;stroke:#1f77b4;\" x=\"120.081275\" xlink:href=\"#m7796ecfac1\" y=\"88.571047\"/>\n     <use style=\"fill:#1f77b4;stroke:#1f77b4;\" x=\"120.500894\" xlink:href=\"#m7796ecfac1\" y=\"87.878754\"/>\n     <use style=\"fill:#1f77b4;stroke:#1f77b4;\" x=\"120.920513\" xlink:href=\"#m7796ecfac1\" y=\"87.754675\"/>\n     <use style=\"fill:#1f77b4;stroke:#1f77b4;\" x=\"121.787726\" xlink:href=\"#m7796ecfac1\" y=\"87.311015\"/>\n     <use style=\"fill:#1f77b4;stroke:#1f77b4;\" x=\"122.654938\" xlink:href=\"#m7796ecfac1\" y=\"86.797121\"/>\n     <use style=\"fill:#1f77b4;stroke:#1f77b4;\" x=\"123.074557\" xlink:href=\"#m7796ecfac1\" y=\"85.825868\"/>\n     <use style=\"fill:#1f77b4;stroke:#1f77b4;\" x=\"123.438227\" xlink:href=\"#m7796ecfac1\" y=\"86.566541\"/>\n     <use style=\"fill:#1f77b4;stroke:#1f77b4;\" x=\"124.30544\" xlink:href=\"#m7796ecfac1\" y=\"85.722693\"/>\n     <use style=\"fill:#1f77b4;stroke:#1f77b4;\" x=\"125.144677\" xlink:href=\"#m7796ecfac1\" y=\"85.402884\"/>\n     <use style=\"fill:#1f77b4;stroke:#1f77b4;\" x=\"125.564296\" xlink:href=\"#m7796ecfac1\" y=\"84.513418\"/>\n     <use style=\"fill:#1f77b4;stroke:#1f77b4;\" x=\"126.01189\" xlink:href=\"#m7796ecfac1\" y=\"84.483011\"/>\n     <use style=\"fill:#1f77b4;stroke:#1f77b4;\" x=\"126.851128\" xlink:href=\"#m7796ecfac1\" y=\"83.736664\"/>\n     <use style=\"fill:#1f77b4;stroke:#1f77b4;\" x=\"127.718341\" xlink:href=\"#m7796ecfac1\" y=\"83.295194\"/>\n     <use style=\"fill:#1f77b4;stroke:#1f77b4;\" x=\"128.13796\" xlink:href=\"#m7796ecfac1\" y=\"82.793304\"/>\n     <use style=\"fill:#1f77b4;stroke:#1f77b4;\" x=\"128.585553\" xlink:href=\"#m7796ecfac1\" y=\"82.55601\"/>\n     <use style=\"fill:#1f77b4;stroke:#1f77b4;\" x=\"129.424791\" xlink:href=\"#m7796ecfac1\" y=\"82.029462\"/>\n     <use style=\"fill:#1f77b4;stroke:#1f77b4;\" x=\"130.292004\" xlink:href=\"#m7796ecfac1\" y=\"81.528791\"/>\n     <use style=\"fill:#1f77b4;stroke:#1f77b4;\" x=\"130.711623\" xlink:href=\"#m7796ecfac1\" y=\"81.453013\"/>\n     <use style=\"fill:#1f77b4;stroke:#1f77b4;\" x=\"131.131242\" xlink:href=\"#m7796ecfac1\" y=\"81.037859\"/>\n     <use style=\"fill:#1f77b4;stroke:#1f77b4;\" x=\"131.998454\" xlink:href=\"#m7796ecfac1\" y=\"80.42618\"/>\n     <use style=\"fill:#1f77b4;stroke:#1f77b4;\" x=\"132.865667\" xlink:href=\"#m7796ecfac1\" y=\"79.946803\"/>\n     <use style=\"fill:#1f77b4;stroke:#1f77b4;\" x=\"133.285286\" xlink:href=\"#m7796ecfac1\" y=\"79.836718\"/>\n     <use style=\"fill:#1f77b4;stroke:#1f77b4;\" x=\"133.648956\" xlink:href=\"#m7796ecfac1\" y=\"79.639337\"/>\n     <use style=\"fill:#1f77b4;stroke:#1f77b4;\" x=\"134.516168\" xlink:href=\"#m7796ecfac1\" y=\"78.952825\"/>\n     <use style=\"fill:#1f77b4;stroke:#1f77b4;\" x=\"135.355406\" xlink:href=\"#m7796ecfac1\" y=\"78.583359\"/>\n     <use style=\"fill:#1f77b4;stroke:#1f77b4;\" x=\"135.775025\" xlink:href=\"#m7796ecfac1\" y=\"79.159286\"/>\n     <use style=\"fill:#1f77b4;stroke:#1f77b4;\" x=\"136.222619\" xlink:href=\"#m7796ecfac1\" y=\"77.786941\"/>\n     <use style=\"fill:#1f77b4;stroke:#1f77b4;\" x=\"137.061857\" xlink:href=\"#m7796ecfac1\" y=\"77.680599\"/>\n     <use style=\"fill:#1f77b4;stroke:#1f77b4;\" x=\"138.348688\" xlink:href=\"#m7796ecfac1\" y=\"77.563963\"/>\n     <use style=\"fill:#1f77b4;stroke:#1f77b4;\" x=\"140.922351\" xlink:href=\"#m7796ecfac1\" y=\"76.779898\"/>\n     <use style=\"fill:#1f77b4;stroke:#1f77b4;\" x=\"143.496014\" xlink:href=\"#m7796ecfac1\" y=\"75.607363\"/>\n     <use style=\"fill:#1f77b4;stroke:#1f77b4;\" x=\"146.013728\" xlink:href=\"#m7796ecfac1\" y=\"74.680758\"/>\n     <use style=\"fill:#1f77b4;stroke:#1f77b4;\" x=\"148.587391\" xlink:href=\"#m7796ecfac1\" y=\"73.333716\"/>\n     <use style=\"fill:#1f77b4;stroke:#1f77b4;\" x=\"151.161054\" xlink:href=\"#m7796ecfac1\" y=\"72.622023\"/>\n     <use style=\"fill:#1f77b4;stroke:#1f77b4;\" x=\"153.734718\" xlink:href=\"#m7796ecfac1\" y=\"71.370338\"/>\n     <use style=\"fill:#1f77b4;stroke:#1f77b4;\" x=\"156.224457\" xlink:href=\"#m7796ecfac1\" y=\"70.776479\"/>\n     <use style=\"fill:#1f77b4;stroke:#1f77b4;\" x=\"158.79812\" xlink:href=\"#m7796ecfac1\" y=\"70.074959\"/>\n     <use style=\"fill:#1f77b4;stroke:#1f77b4;\" x=\"161.371783\" xlink:href=\"#m7796ecfac1\" y=\"69.842637\"/>\n     <use style=\"fill:#1f77b4;stroke:#1f77b4;\" x=\"163.945446\" xlink:href=\"#m7796ecfac1\" y=\"68.579755\"/>\n     <use style=\"fill:#1f77b4;stroke:#1f77b4;\" x=\"166.435185\" xlink:href=\"#m7796ecfac1\" y=\"66.706059\"/>\n     <use style=\"fill:#1f77b4;stroke:#1f77b4;\" x=\"66.845613\" xlink:href=\"#m7796ecfac1\" y=\"214.756364\"/>\n     <use style=\"fill:#1f77b4;stroke:#1f77b4;\" x=\"71.99294\" xlink:href=\"#m7796ecfac1\" y=\"107.339444\"/>\n     <use style=\"fill:#1f77b4;stroke:#1f77b4;\" x=\"74.482679\" xlink:href=\"#m7796ecfac1\" y=\"105.437163\"/>\n     <use style=\"fill:#1f77b4;stroke:#1f77b4;\" x=\"77.056342\" xlink:href=\"#m7796ecfac1\" y=\"98.344388\"/>\n     <use style=\"fill:#1f77b4;stroke:#1f77b4;\" x=\"79.630005\" xlink:href=\"#m7796ecfac1\" y=\"102.940482\"/>\n     <use style=\"fill:#1f77b4;stroke:#1f77b4;\" x=\"87.267071\" xlink:href=\"#m7796ecfac1\" y=\"101.773816\"/>\n     <use style=\"fill:#1f77b4;stroke:#1f77b4;\" x=\"89.840734\" xlink:href=\"#m7796ecfac1\" y=\"100.7125\"/>\n     <use style=\"fill:#1f77b4;stroke:#1f77b4;\" x=\"92.414397\" xlink:href=\"#m7796ecfac1\" y=\"101.453648\"/>\n     <use style=\"fill:#1f77b4;stroke:#1f77b4;\" x=\"97.477799\" xlink:href=\"#m7796ecfac1\" y=\"93.874376\"/>\n     <use style=\"fill:#1f77b4;stroke:#1f77b4;\" x=\"110.290165\" xlink:href=\"#m7796ecfac1\" y=\"92.849339\"/>\n     <use style=\"fill:#1f77b4;stroke:#1f77b4;\" x=\"112.863829\" xlink:href=\"#m7796ecfac1\" y=\"91.821886\"/>\n     <use style=\"fill:#1f77b4;stroke:#1f77b4;\" x=\"117.927231\" xlink:href=\"#m7796ecfac1\" y=\"89.639536\"/>\n     <use style=\"fill:#1f77b4;stroke:#1f77b4;\" x=\"123.074557\" xlink:href=\"#m7796ecfac1\" y=\"85.33066\"/>\n     <use style=\"fill:#1f77b4;stroke:#1f77b4;\" x=\"128.13796\" xlink:href=\"#m7796ecfac1\" y=\"84.561719\"/>\n     <use style=\"fill:#1f77b4;stroke:#1f77b4;\" x=\"130.711623\" xlink:href=\"#m7796ecfac1\" y=\"83.225593\"/>\n     <use style=\"fill:#1f77b4;stroke:#1f77b4;\" x=\"133.285286\" xlink:href=\"#m7796ecfac1\" y=\"81.235182\"/>\n     <use style=\"fill:#1f77b4;stroke:#1f77b4;\" x=\"138.348688\" xlink:href=\"#m7796ecfac1\" y=\"79.377005\"/>\n     <use style=\"fill:#1f77b4;stroke:#1f77b4;\" x=\"140.922351\" xlink:href=\"#m7796ecfac1\" y=\"78.922814\"/>\n     <use style=\"fill:#1f77b4;stroke:#1f77b4;\" x=\"148.587391\" xlink:href=\"#m7796ecfac1\" y=\"74.342976\"/>\n     <use style=\"fill:#1f77b4;stroke:#1f77b4;\" x=\"151.161054\" xlink:href=\"#m7796ecfac1\" y=\"73.811028\"/>\n     <use style=\"fill:#1f77b4;stroke:#1f77b4;\" x=\"153.734718\" xlink:href=\"#m7796ecfac1\" y=\"72.823939\"/>\n     <use style=\"fill:#1f77b4;stroke:#1f77b4;\" x=\"158.79812\" xlink:href=\"#m7796ecfac1\" y=\"72.319546\"/>\n     <use style=\"fill:#1f77b4;stroke:#1f77b4;\" x=\"166.435185\" xlink:href=\"#m7796ecfac1\" y=\"69.890305\"/>\n     <use style=\"fill:#1f77b4;stroke:#1f77b4;\" x=\"174.156175\" xlink:href=\"#m7796ecfac1\" y=\"67.88477\"/>\n     <use style=\"fill:#1f77b4;stroke:#1f77b4;\" x=\"225.237792\" xlink:href=\"#m7796ecfac1\" y=\"55.071929\"/>\n     <use style=\"fill:#1f77b4;stroke:#1f77b4;\" x=\"235.476496\" xlink:href=\"#m7796ecfac1\" y=\"52.630415\"/>\n     <use style=\"fill:#1f77b4;stroke:#1f77b4;\" x=\"237.966235\" xlink:href=\"#m7796ecfac1\" y=\"52.075187\"/>\n     <use style=\"fill:#1f77b4;stroke:#1f77b4;\" x=\"245.687224\" xlink:href=\"#m7796ecfac1\" y=\"49.091668\"/>\n     <use style=\"fill:#1f77b4;stroke:#1f77b4;\" x=\"248.176964\" xlink:href=\"#m7796ecfac1\" y=\"47.835121\"/>\n     <use style=\"fill:#1f77b4;stroke:#1f77b4;\" x=\"255.897953\" xlink:href=\"#m7796ecfac1\" y=\"42.756908\"/>\n     <use style=\"fill:#1f77b4;stroke:#1f77b4;\" x=\"258.387692\" xlink:href=\"#m7796ecfac1\" y=\"41.930321\"/>\n     <use style=\"fill:#1f77b4;stroke:#1f77b4;\" x=\"260.961355\" xlink:href=\"#m7796ecfac1\" y=\"41.300662\"/>\n     <use style=\"fill:#1f77b4;stroke:#1f77b4;\" x=\"263.535018\" xlink:href=\"#m7796ecfac1\" y=\"39.717407\"/>\n     <use style=\"fill:#1f77b4;stroke:#1f77b4;\" x=\"266.108681\" xlink:href=\"#m7796ecfac1\" y=\"39.175149\"/>\n     <use style=\"fill:#1f77b4;stroke:#1f77b4;\" x=\"268.626395\" xlink:href=\"#m7796ecfac1\" y=\"38.019496\"/>\n     <use style=\"fill:#1f77b4;stroke:#1f77b4;\" x=\"268.626395\" xlink:href=\"#m7796ecfac1\" y=\"33.906123\"/>\n     <use style=\"fill:#1f77b4;stroke:#1f77b4;\" x=\"271.200058\" xlink:href=\"#m7796ecfac1\" y=\"36.215002\"/>\n     <use style=\"fill:#1f77b4;stroke:#1f77b4;\" x=\"273.773722\" xlink:href=\"#m7796ecfac1\" y=\"35.973103\"/>\n     <use style=\"fill:#1f77b4;stroke:#1f77b4;\" x=\"276.347385\" xlink:href=\"#m7796ecfac1\" y=\"35.982737\"/>\n     <use style=\"fill:#1f77b4;stroke:#1f77b4;\" x=\"278.837124\" xlink:href=\"#m7796ecfac1\" y=\"34.172493\"/>\n     <use style=\"fill:#1f77b4;stroke:#1f77b4;\" x=\"281.410787\" xlink:href=\"#m7796ecfac1\" y=\"32.746494\"/>\n     <use style=\"fill:#1f77b4;stroke:#1f77b4;\" x=\"283.98445\" xlink:href=\"#m7796ecfac1\" y=\"30.724569\"/>\n     <use style=\"fill:#1f77b4;stroke:#1f77b4;\" x=\"286.558113\" xlink:href=\"#m7796ecfac1\" y=\"30.678484\"/>\n     <use style=\"fill:#1f77b4;stroke:#1f77b4;\" x=\"289.047853\" xlink:href=\"#m7796ecfac1\" y=\"28.934252\"/>\n     <use style=\"fill:#1f77b4;stroke:#1f77b4;\" x=\"291.621516\" xlink:href=\"#m7796ecfac1\" y=\"27.773594\"/>\n     <use style=\"fill:#1f77b4;stroke:#1f77b4;\" x=\"294.195179\" xlink:href=\"#m7796ecfac1\" y=\"26.39859\"/>\n     <use style=\"fill:#1f77b4;stroke:#1f77b4;\" x=\"296.768842\" xlink:href=\"#m7796ecfac1\" y=\"26.082493\"/>\n     <use style=\"fill:#1f77b4;stroke:#1f77b4;\" x=\"299.258581\" xlink:href=\"#m7796ecfac1\" y=\"25.063968\"/>\n     <use style=\"fill:#1f77b4;stroke:#1f77b4;\" x=\"301.832244\" xlink:href=\"#m7796ecfac1\" y=\"25.454655\"/>\n     <use style=\"fill:#1f77b4;stroke:#1f77b4;\" x=\"304.405907\" xlink:href=\"#m7796ecfac1\" y=\"24.918985\"/>\n     <use style=\"fill:#1f77b4;stroke:#1f77b4;\" x=\"306.979571\" xlink:href=\"#m7796ecfac1\" y=\"24.05631\"/>\n     <use style=\"fill:#1f77b4;stroke:#1f77b4;\" x=\"309.497284\" xlink:href=\"#m7796ecfac1\" y=\"23.310392\"/>\n     <use style=\"fill:#1f77b4;stroke:#1f77b4;\" x=\"312.070948\" xlink:href=\"#m7796ecfac1\" y=\"22.424419\"/>\n     <use style=\"fill:#1f77b4;stroke:#1f77b4;\" x=\"314.644611\" xlink:href=\"#m7796ecfac1\" y=\"21.745428\"/>\n     <use style=\"fill:#1f77b4;stroke:#1f77b4;\" x=\"317.218274\" xlink:href=\"#m7796ecfac1\" y=\"20.357957\"/>\n     <use style=\"fill:#1f77b4;stroke:#1f77b4;\" x=\"319.708013\" xlink:href=\"#m7796ecfac1\" y=\"20.996599\"/>\n     <use style=\"fill:#1f77b4;stroke:#1f77b4;\" x=\"322.281676\" xlink:href=\"#m7796ecfac1\" y=\"20.420489\"/>\n     <use style=\"fill:#1f77b4;stroke:#1f77b4;\" x=\"324.855339\" xlink:href=\"#m7796ecfac1\" y=\"20.606705\"/>\n     <use style=\"fill:#1f77b4;stroke:#1f77b4;\" x=\"327.429002\" xlink:href=\"#m7796ecfac1\" y=\"19.416829\"/>\n     <use style=\"fill:#1f77b4;stroke:#1f77b4;\" x=\"329.918742\" xlink:href=\"#m7796ecfac1\" y=\"19.353245\"/>\n     <use style=\"fill:#1f77b4;stroke:#1f77b4;\" x=\"332.492405\" xlink:href=\"#m7796ecfac1\" y=\"18.815754\"/>\n     <use style=\"fill:#1f77b4;stroke:#1f77b4;\" x=\"335.066068\" xlink:href=\"#m7796ecfac1\" y=\"19.798251\"/>\n     <use style=\"fill:#1f77b4;stroke:#1f77b4;\" x=\"337.639731\" xlink:href=\"#m7796ecfac1\" y=\"20.10828\"/>\n     <use style=\"fill:#1f77b4;stroke:#1f77b4;\" x=\"340.12947\" xlink:href=\"#m7796ecfac1\" y=\"19.731025\"/>\n     <use style=\"fill:#1f77b4;stroke:#1f77b4;\" x=\"342.703133\" xlink:href=\"#m7796ecfac1\" y=\"19.163682\"/>\n     <use style=\"fill:#1f77b4;stroke:#1f77b4;\" x=\"345.276796\" xlink:href=\"#m7796ecfac1\" y=\"19.05829\"/>\n     <use style=\"fill:#1f77b4;stroke:#1f77b4;\" x=\"347.85046\" xlink:href=\"#m7796ecfac1\" y=\"19.393549\"/>\n     <use style=\"fill:#1f77b4;stroke:#1f77b4;\" x=\"350.368173\" xlink:href=\"#m7796ecfac1\" y=\"19.44573\"/>\n     <use style=\"fill:#1f77b4;stroke:#1f77b4;\" x=\"352.941837\" xlink:href=\"#m7796ecfac1\" y=\"19.222911\"/>\n     <use style=\"fill:#1f77b4;stroke:#1f77b4;\" x=\"355.5155\" xlink:href=\"#m7796ecfac1\" y=\"19.980072\"/>\n     <use style=\"fill:#1f77b4;stroke:#1f77b4;\" x=\"358.089163\" xlink:href=\"#m7796ecfac1\" y=\"19.205095\"/>\n     <use style=\"fill:#1f77b4;stroke:#1f77b4;\" x=\"360.578902\" xlink:href=\"#m7796ecfac1\" y=\"19.000962\"/>\n     <use style=\"fill:#1f77b4;stroke:#1f77b4;\" x=\"363.152565\" xlink:href=\"#m7796ecfac1\" y=\"18.009359\"/>\n     <use style=\"fill:#1f77b4;stroke:#1f77b4;\" x=\"365.726228\" xlink:href=\"#m7796ecfac1\" y=\"18.182927\"/>\n     <use style=\"fill:#1f77b4;stroke:#1f77b4;\" x=\"368.299891\" xlink:href=\"#m7796ecfac1\" y=\"17.81267\"/>\n     <use style=\"fill:#1f77b4;stroke:#1f77b4;\" x=\"370.789631\" xlink:href=\"#m7796ecfac1\" y=\"17.083636\"/>\n    </g>\n   </g>\n   <g id=\"patch_3\">\n    <path d=\"M 51.207813 224.64 \nL 51.207813 7.2 \n\" style=\"fill:none;stroke:#000000;stroke-linecap:square;stroke-linejoin:miter;stroke-width:0.8;\"/>\n   </g>\n   <g id=\"patch_4\">\n    <path d=\"M 386.007812 224.64 \nL 386.007812 7.2 \n\" style=\"fill:none;stroke:#000000;stroke-linecap:square;stroke-linejoin:miter;stroke-width:0.8;\"/>\n   </g>\n   <g id=\"patch_5\">\n    <path d=\"M 51.207813 224.64 \nL 386.007812 224.64 \n\" style=\"fill:none;stroke:#000000;stroke-linecap:square;stroke-linejoin:miter;stroke-width:0.8;\"/>\n   </g>\n   <g id=\"patch_6\">\n    <path d=\"M 51.207813 7.2 \nL 386.007812 7.2 \n\" style=\"fill:none;stroke:#000000;stroke-linecap:square;stroke-linejoin:miter;stroke-width:0.8;\"/>\n   </g>\n  </g>\n </g>\n <defs>\n  <clipPath id=\"p431c5e3dca\">\n   <rect height=\"217.44\" width=\"334.8\" x=\"51.207813\" y=\"7.2\"/>\n  </clipPath>\n </defs>\n</svg>\n",
      "text/plain": [
       "<Figure size 432x288 with 1 Axes>"
      ]
     },
     "metadata": {
      "needs_background": "light"
     },
     "output_type": "display_data"
    }
   ],
   "source": [
    "df_p = df_note_dt\n",
    "plt.figure()\n",
    "x = df_p['MATURITY DATE']\n",
    "y = df_p['Yield']\n",
    "plt.plot(x, y, 'o')\n",
    "plt.show()"
   ]
  },
  {
   "cell_type": "code",
   "execution_count": 39,
   "metadata": {},
   "outputs": [],
   "source": [
    "import pymongo"
   ]
  },
  {
   "cell_type": "code",
   "execution_count": 40,
   "metadata": {},
   "outputs": [],
   "source": [
    "myclient = pymongo.MongoClient('mongodb://localhost:27017/')"
   ]
  },
  {
   "cell_type": "code",
   "execution_count": 41,
   "metadata": {},
   "outputs": [],
   "source": [
    "mydb = myclient['mydatabase']"
   ]
  },
  {
   "cell_type": "code",
   "execution_count": 42,
   "metadata": {},
   "outputs": [
    {
     "data": {
      "text/plain": [
       "['admin', 'config', 'local']"
      ]
     },
     "execution_count": 42,
     "metadata": {},
     "output_type": "execute_result"
    }
   ],
   "source": [
    "myclient.list_database_names()"
   ]
  },
  {
   "cell_type": "code",
   "execution_count": 43,
   "metadata": {},
   "outputs": [],
   "source": [
    "mycol = mydb['customers']"
   ]
  },
  {
   "cell_type": "code",
   "execution_count": 45,
   "metadata": {},
   "outputs": [],
   "source": [
    "x = mycol.find_one()"
   ]
  },
  {
   "cell_type": "code",
   "execution_count": 48,
   "metadata": {},
   "outputs": [
    {
     "name": "stdout",
     "output_type": "stream",
     "text": [
      "None\n"
     ]
    }
   ],
   "source": [
    "print(x)"
   ]
  },
  {
   "cell_type": "code",
   "execution_count": 17,
   "metadata": {
    "tags": []
   },
   "outputs": [
    {
     "name": "stdout",
     "output_type": "stream",
     "text": [
      "['customers']\n"
     ]
    }
   ],
   "source": [
    "print(mydb.list_collection_names())"
   ]
  },
  {
   "cell_type": "code",
   "execution_count": 18,
   "metadata": {
    "tags": []
   },
   "outputs": [
    {
     "name": "stdout",
     "output_type": "stream",
     "text": [
      "The collection exists.\n"
     ]
    }
   ],
   "source": [
    "collist = mydb.list_collection_names()\n",
    "if \"customers\" in collist:\n",
    "  print(\"The collection exists.\")"
   ]
  },
  {
   "cell_type": "code",
   "execution_count": 19,
   "metadata": {},
   "outputs": [],
   "source": [
    "mydict = {'name':'john', 'address':'highway 37'}\n",
    "x = mycol.insert_one(mydict)"
   ]
  },
  {
   "cell_type": "code",
   "execution_count": 21,
   "metadata": {},
   "outputs": [
    {
     "data": {
      "text/plain": [
       "{'_id': ObjectId('5f25766bc8cab274b64fe693'),\n",
       " 'name': 'john',\n",
       " 'address': 'highway 37'}"
      ]
     },
     "execution_count": 21,
     "metadata": {},
     "output_type": "execute_result"
    }
   ],
   "source": [
    "mycol.find_one()"
   ]
  },
  {
   "cell_type": "code",
   "execution_count": 130,
   "metadata": {},
   "outputs": [
    {
     "name": "stdout",
     "output_type": "stream",
     "text": [
      "The collection exists.\n"
     ]
    }
   ],
   "source": [
    "collist = mydb.list_collection_names()\n",
    "if \"customers\" in collist:\n",
    "  print(\"The collection exists.\")"
   ]
  },
  {
   "cell_type": "code",
   "execution_count": 131,
   "metadata": {},
   "outputs": [
    {
     "data": {
      "text/plain": [
       "ObjectId('5f25766bc8cab274b64fe693')"
      ]
     },
     "execution_count": 131,
     "metadata": {},
     "output_type": "execute_result"
    }
   ],
   "source": [
    "x.inserted_id"
   ]
  },
  {
   "cell_type": "code",
   "execution_count": 138,
   "metadata": {},
   "outputs": [
    {
     "data": {
      "text/plain": [
       "<pymongo.results.InsertManyResult at 0x7fca30fcbcd0>"
      ]
     },
     "execution_count": 138,
     "metadata": {},
     "output_type": "execute_result"
    }
   ],
   "source": [
    "mycol.insert_many(df_note.to_dict(orient = 'records'))"
   ]
  },
  {
   "cell_type": "code",
   "execution_count": 154,
   "metadata": {},
   "outputs": [
    {
     "data": {
      "text/html": [
       "<div>\n",
       "<style scoped>\n",
       "    .dataframe tbody tr th:only-of-type {\n",
       "        vertical-align: middle;\n",
       "    }\n",
       "\n",
       "    .dataframe tbody tr th {\n",
       "        vertical-align: top;\n",
       "    }\n",
       "\n",
       "    .dataframe thead th {\n",
       "        text-align: right;\n",
       "    }\n",
       "</style>\n",
       "<table border=\"1\" class=\"dataframe\">\n",
       "  <thead>\n",
       "    <tr style=\"text-align: right;\">\n",
       "      <th></th>\n",
       "      <th>CUSIP</th>\n",
       "      <th>SECURITY TYPE</th>\n",
       "      <th>RATE</th>\n",
       "      <th>MATURITY DATE</th>\n",
       "      <th>CALL DATE</th>\n",
       "      <th>BUY</th>\n",
       "      <th>SELL</th>\n",
       "      <th>END OF DAY</th>\n",
       "      <th>Date</th>\n",
       "      <th>Yield</th>\n",
       "    </tr>\n",
       "  </thead>\n",
       "  <tbody>\n",
       "    <tr>\n",
       "      <th>0</th>\n",
       "      <td>912828Y46</td>\n",
       "      <td>MARKET BASED NOTE</td>\n",
       "      <td>0.02625</td>\n",
       "      <td>2020-07-31</td>\n",
       "      <td></td>\n",
       "      <td>0.0</td>\n",
       "      <td>100.06250</td>\n",
       "      <td>100.06250</td>\n",
       "      <td>2020-07-20</td>\n",
       "      <td>0.000823</td>\n",
       "    </tr>\n",
       "    <tr>\n",
       "      <th>1</th>\n",
       "      <td>912828XM7</td>\n",
       "      <td>MARKET BASED NOTE</td>\n",
       "      <td>0.01625</td>\n",
       "      <td>2020-07-31</td>\n",
       "      <td></td>\n",
       "      <td>0.0</td>\n",
       "      <td>100.03125</td>\n",
       "      <td>100.03125</td>\n",
       "      <td>2020-07-20</td>\n",
       "      <td>0.003517</td>\n",
       "    </tr>\n",
       "    <tr>\n",
       "      <th>2</th>\n",
       "      <td>912828VP2</td>\n",
       "      <td>MARKET BASED NOTE</td>\n",
       "      <td>0.02000</td>\n",
       "      <td>2020-07-31</td>\n",
       "      <td></td>\n",
       "      <td>0.0</td>\n",
       "      <td>100.03125</td>\n",
       "      <td>100.03125</td>\n",
       "      <td>2020-07-20</td>\n",
       "      <td>0.007234</td>\n",
       "    </tr>\n",
       "    <tr>\n",
       "      <th>3</th>\n",
       "      <td>9128282Q2</td>\n",
       "      <td>MARKET BASED NOTE</td>\n",
       "      <td>0.01500</td>\n",
       "      <td>2020-08-15</td>\n",
       "      <td></td>\n",
       "      <td>0.0</td>\n",
       "      <td>100.09375</td>\n",
       "      <td>100.09375</td>\n",
       "      <td>2020-07-20</td>\n",
       "      <td>0.000644</td>\n",
       "    </tr>\n",
       "    <tr>\n",
       "      <th>4</th>\n",
       "      <td>912828NT3</td>\n",
       "      <td>MARKET BASED NOTE</td>\n",
       "      <td>0.02625</td>\n",
       "      <td>2020-08-15</td>\n",
       "      <td></td>\n",
       "      <td>0.0</td>\n",
       "      <td>100.15625</td>\n",
       "      <td>100.15625</td>\n",
       "      <td>2020-07-20</td>\n",
       "      <td>0.002208</td>\n",
       "    </tr>\n",
       "    <tr>\n",
       "      <th>...</th>\n",
       "      <td>...</td>\n",
       "      <td>...</td>\n",
       "      <td>...</td>\n",
       "      <td>...</td>\n",
       "      <td>...</td>\n",
       "      <td>...</td>\n",
       "      <td>...</td>\n",
       "      <td>...</td>\n",
       "      <td>...</td>\n",
       "      <td>...</td>\n",
       "    </tr>\n",
       "    <tr>\n",
       "      <th>262</th>\n",
       "      <td>912828A83</td>\n",
       "      <td>MARKET BASED NOTE</td>\n",
       "      <td>0.02375</td>\n",
       "      <td>2020-12-31</td>\n",
       "      <td></td>\n",
       "      <td>0.0</td>\n",
       "      <td>100.90625</td>\n",
       "      <td>0.00000</td>\n",
       "      <td>2020-07-31</td>\n",
       "      <td>2.676000</td>\n",
       "    </tr>\n",
       "    <tr>\n",
       "      <th>263</th>\n",
       "      <td>912828N48</td>\n",
       "      <td>MARKET BASED NOTE</td>\n",
       "      <td>0.01750</td>\n",
       "      <td>2020-12-31</td>\n",
       "      <td></td>\n",
       "      <td>0.0</td>\n",
       "      <td>100.65625</td>\n",
       "      <td>0.00000</td>\n",
       "      <td>2020-07-31</td>\n",
       "      <td>2.679117</td>\n",
       "    </tr>\n",
       "    <tr>\n",
       "      <th>264</th>\n",
       "      <td>9128285S5</td>\n",
       "      <td>MARKET BASED NOTE</td>\n",
       "      <td>0.02500</td>\n",
       "      <td>2020-12-31</td>\n",
       "      <td></td>\n",
       "      <td>0.0</td>\n",
       "      <td>100.96875</td>\n",
       "      <td>0.00000</td>\n",
       "      <td>2020-07-31</td>\n",
       "      <td>2.674672</td>\n",
       "    </tr>\n",
       "    <tr>\n",
       "      <th>265</th>\n",
       "      <td>9128283Q1</td>\n",
       "      <td>MARKET BASED NOTE</td>\n",
       "      <td>0.02000</td>\n",
       "      <td>2021-01-15</td>\n",
       "      <td></td>\n",
       "      <td>0.0</td>\n",
       "      <td>100.84375</td>\n",
       "      <td>0.00000</td>\n",
       "      <td>2020-07-31</td>\n",
       "      <td>2.330970</td>\n",
       "    </tr>\n",
       "    <tr>\n",
       "      <th>266</th>\n",
       "      <td>912810EG9</td>\n",
       "      <td>MARKET BASED BOND</td>\n",
       "      <td>0.08750</td>\n",
       "      <td>2020-08-15</td>\n",
       "      <td></td>\n",
       "      <td>0.0</td>\n",
       "      <td>100.28125</td>\n",
       "      <td>0.00000</td>\n",
       "      <td>2020-07-31</td>\n",
       "      <td>20072.354410</td>\n",
       "    </tr>\n",
       "  </tbody>\n",
       "</table>\n",
       "<p>267 rows × 10 columns</p>\n",
       "</div>"
      ],
      "text/plain": [
       "         CUSIP      SECURITY TYPE     RATE MATURITY DATE CALL DATE  BUY  \\\n",
       "0    912828Y46  MARKET BASED NOTE  0.02625    2020-07-31            0.0   \n",
       "1    912828XM7  MARKET BASED NOTE  0.01625    2020-07-31            0.0   \n",
       "2    912828VP2  MARKET BASED NOTE  0.02000    2020-07-31            0.0   \n",
       "3    9128282Q2  MARKET BASED NOTE  0.01500    2020-08-15            0.0   \n",
       "4    912828NT3  MARKET BASED NOTE  0.02625    2020-08-15            0.0   \n",
       "..         ...                ...      ...           ...       ...  ...   \n",
       "262  912828A83  MARKET BASED NOTE  0.02375    2020-12-31            0.0   \n",
       "263  912828N48  MARKET BASED NOTE  0.01750    2020-12-31            0.0   \n",
       "264  9128285S5  MARKET BASED NOTE  0.02500    2020-12-31            0.0   \n",
       "265  9128283Q1  MARKET BASED NOTE  0.02000    2021-01-15            0.0   \n",
       "266  912810EG9  MARKET BASED BOND  0.08750    2020-08-15            0.0   \n",
       "\n",
       "          SELL  END OF DAY       Date         Yield  \n",
       "0    100.06250   100.06250 2020-07-20      0.000823  \n",
       "1    100.03125   100.03125 2020-07-20      0.003517  \n",
       "2    100.03125   100.03125 2020-07-20      0.007234  \n",
       "3    100.09375   100.09375 2020-07-20      0.000644  \n",
       "4    100.15625   100.15625 2020-07-20      0.002208  \n",
       "..         ...         ...        ...           ...  \n",
       "262  100.90625     0.00000 2020-07-31      2.676000  \n",
       "263  100.65625     0.00000 2020-07-31      2.679117  \n",
       "264  100.96875     0.00000 2020-07-31      2.674672  \n",
       "265  100.84375     0.00000 2020-07-31      2.330970  \n",
       "266  100.28125     0.00000 2020-07-31  20072.354410  \n",
       "\n",
       "[267 rows x 10 columns]"
      ]
     },
     "execution_count": 154,
     "metadata": {},
     "output_type": "execute_result"
    }
   ],
   "source": [
    "pd.DataFrame(mycol.find({'BUY':{'$lt':0.1}}, {'_id':0}))"
   ]
  },
  {
   "cell_type": "code",
   "execution_count": null,
   "metadata": {},
   "outputs": [],
   "source": []
  }
 ],
 "metadata": {
  "interpreter": {
   "hash": "14da1fb5a2edd7966b13299b513a85c395da5a64a95f14a737e400261d85e1a8"
  },
  "kernelspec": {
   "display_name": "Python 3.7.13 ('ust')",
   "language": "python",
   "name": "python3"
  },
  "language_info": {
   "codemirror_mode": {
    "name": "ipython",
    "version": 3
   },
   "file_extension": ".py",
   "mimetype": "text/x-python",
   "name": "python",
   "nbconvert_exporter": "python",
   "pygments_lexer": "ipython3",
   "version": "3.7.13"
  }
 },
 "nbformat": 4,
 "nbformat_minor": 4
}
